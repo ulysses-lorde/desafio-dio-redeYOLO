{
  "cells": [
    {
      "cell_type": "markdown",
      "metadata": {
        "id": "U1B9SpsA1aBo"
      },
      "source": [
        "# DESAFIO DE PROJETO DIO\n",
        "### TREINAMENTO CUSTOMIZADO DA REDE YOLO"
      ]
    },
    {
      "cell_type": "markdown",
      "metadata": {
        "id": "aYc27ZEsvKWJ"
      },
      "source": [
        "Obtenha um Conjunto de imagens para fazer o treinamento com a ferramenta YOLO:\n",
        "\n",
        "- Open Images Dataset\n",
        "\n",
        "- plataforma Roboflow\n",
        "\n",
        "- Ou faça o treinamento do seu próprio conjunto de imagens usando a ferramenta LabelImg\n",
        "\n",
        "\n",
        "\n",
        "### Arquivos necessários para o treinamento:\n",
        "\n",
        "* Arquivos obj.data e obj.names\n",
        "* Arquivo .cfg customizado\n",
        "* Arquivo train.txt (test.txt é opcional)"
      ]
    },
    {
      "cell_type": "markdown",
      "metadata": {
        "id": "2TgUjFpCynju"
      },
      "source": [
        "# Gerando arquivos necessários para o treinamento\n",
        "\n",
        "Os passos não estão totalmente explicados ou completos"
      ]
    },
    {
      "cell_type": "code",
      "execution_count": null,
      "metadata": {
        "id": "LJZRcEw0LoBd"
      },
      "outputs": [],
      "source": [
        "from google.colab import drive\n",
        "drive.mount('/content/gdrive')"
      ]
    },
    {
      "cell_type": "code",
      "execution_count": null,
      "metadata": {
        "id": "WZKHT8krDn7_"
      },
      "outputs": [],
      "source": [
        "!ln -s /content/gdrive/MyDrive/TreinamentoYOLO/ /TreinamentoYOLO"
      ]
    },
    {
      "cell_type": "code",
      "execution_count": null,
      "metadata": {
        "id": "FsXFlQ1KD06h"
      },
      "outputs": [],
      "source": [
        "!ls /TreinamentoYOLO"
      ]
    },
    {
      "cell_type": "code",
      "execution_count": null,
      "metadata": {
        "id": "NlBL0NlsR9iP"
      },
      "outputs": [],
      "source": [
        "!mkdir -p Treinamento/data\n",
        "%cd Treinamento"
      ]
    },
    {
      "cell_type": "code",
      "execution_count": null,
      "metadata": {
        "id": "-y2pR6PIETby"
      },
      "outputs": [],
      "source": [
        "!unzip /TreinamentoYOLO/obj.zip -d ./data/"
      ]
    },
    {
      "cell_type": "code",
      "execution_count": null,
      "metadata": {
        "id": "uFBSoYzkETOr"
      },
      "outputs": [],
      "source": [
        "!unzip /TreinamentoYOLO/valid.zip -d ./data/"
      ]
    },
    {
      "cell_type": "code",
      "execution_count": null,
      "metadata": {
        "id": "4KY69Qj_X5cX"
      },
      "outputs": [],
      "source": [
        "!cp /TreinamentoYOLO/gera_train.py /TreinamentoYOLO/gera_test.py /content/Treinamento"
      ]
    },
    {
      "cell_type": "code",
      "execution_count": null,
      "metadata": {
        "id": "BNxmjpLpYtPA"
      },
      "outputs": [],
      "source": [
        "!python /content/Treinamento/gera_train.py\n",
        "!python /content/Treinamento/gera_test.py"
      ]
    },
    {
      "cell_type": "code",
      "execution_count": null,
      "metadata": {
        "id": "-AQhGPpScCun"
      },
      "outputs": [],
      "source": [
        "%cd .."
      ]
    },
    {
      "cell_type": "code",
      "execution_count": null,
      "metadata": {
        "id": "QVfO6Y44b4MD"
      },
      "outputs": [],
      "source": [
        "!python /content/Treinamento/gera_test.py"
      ]
    },
    {
      "cell_type": "code",
      "execution_count": null,
      "metadata": {
        "id": "-7Hq3SMBVP72"
      },
      "outputs": [],
      "source": [
        "%cd data\n",
        "!cp train.txt test.txt /TreinamentoYOLO/"
      ]
    },
    {
      "cell_type": "markdown",
      "metadata": {
        "id": "JOiwkoibzE2X"
      },
      "source": [
        "# Usando o repositório no GitHub como base para treinar a Rede YOLO usando seu conjunto de imagens"
      ]
    },
    {
      "cell_type": "markdown",
      "metadata": {
        "id": "Xbl96JNOxBOn"
      },
      "source": [
        "## Etapa 1 - Clonando o repositório de arquivos necessários pré-prontos"
      ]
    },
    {
      "cell_type": "code",
      "execution_count": null,
      "metadata": {
        "id": "1Yh3QWYAxAio"
      },
      "outputs": [],
      "source": [
        "!git clone https://github.com/ulysses-lorde/desafio-dio-redeYOLO"
      ]
    },
    {
      "cell_type": "markdown",
      "metadata": {
        "id": "OP06Bl0jxVZx"
      },
      "source": [
        "## Etapa 2 - Acessando o diretório da ferramenta"
      ]
    },
    {
      "cell_type": "code",
      "execution_count": null,
      "metadata": {
        "id": "LOqmtea-8BBe"
      },
      "outputs": [],
      "source": [
        "%cd desafio-dio-redeYOLO\n",
        "!ls"
      ]
    },
    {
      "cell_type": "markdown",
      "metadata": {
        "id": "q-o6gr3g9LZE"
      },
      "source": [
        "## ATENÇÃO\n",
        "\n",
        "Aqui  você deverá configurar os arquivos para estarem de acordo com seu conjunto de dados.\n",
        "\n",
        "Vou deixar o link da playlist no youtube que eu segui para fazer todo o projeto:\n",
        "- https://www.youtube.com/playlist?list=PLqSRiSjByYuKqUleBDbwjNt5GJLhoae70\n",
        "\n",
        "Em seguida salve em uma pasta no Google Drive e continue com os passos \"YOLO - Treinamento\"\n"
      ]
    },
    {
      "cell_type": "markdown",
      "metadata": {
        "id": "9_8mQDBWztAY"
      },
      "source": [
        "## Salve os arquivos necessários para o treinamento em uma pasta no Drive"
      ]
    },
    {
      "cell_type": "code",
      "execution_count": null,
      "metadata": {
        "id": "4utUDEWVz4aR"
      },
      "outputs": [],
      "source": [
        "!cp /TreinamentoYOLO /content/drive/MyDrive/NOME-DA-PASTA"
      ]
    },
    {
      "cell_type": "markdown",
      "metadata": {
        "id": "0cR-3mVT2oKC"
      },
      "source": [
        "# YOLO - Treinamento"
      ]
    },
    {
      "cell_type": "code",
      "execution_count": null,
      "metadata": {
        "id": "8RJq6G4VDneR"
      },
      "outputs": [],
      "source": [
        "import tensorflow as tf\n",
        "device_name = tf.test.gpu_device_name()\n",
        "print(device_name)"
      ]
    },
    {
      "cell_type": "markdown",
      "metadata": {
        "id": "L6UHIuyrrsGA"
      },
      "source": [
        "## Etapa 1 - Conectando ao Google Drive"
      ]
    },
    {
      "cell_type": "code",
      "execution_count": null,
      "metadata": {
        "id": "Aqnu59lDQgUe"
      },
      "outputs": [],
      "source": [
        "from google.colab import drive\n",
        "drive.mount('/content/drive')"
      ]
    },
    {
      "cell_type": "markdown",
      "metadata": {
        "id": "Kh_uuIuPrzVX"
      },
      "source": [
        "### Abreviando o caminho para o Google Drive"
      ]
    },
    {
      "cell_type": "code",
      "execution_count": null,
      "metadata": {
        "id": "6BrL-MBdhncq"
      },
      "outputs": [],
      "source": [
        "!ln -s /content/drive/MyDrive/TreinamentoYOLO /TreinamentoYOLO"
      ]
    },
    {
      "cell_type": "code",
      "execution_count": null,
      "metadata": {
        "id": "uRQNWiw8ht4x"
      },
      "outputs": [],
      "source": [
        "!ls /TreinamentoYOLO"
      ]
    },
    {
      "cell_type": "markdown",
      "metadata": {
        "id": "AslUNKw7r74n"
      },
      "source": [
        "## Etapa 2 - Clone do Darknet"
      ]
    },
    {
      "cell_type": "code",
      "execution_count": null,
      "metadata": {
        "id": "fbpADwkgn8B2"
      },
      "outputs": [],
      "source": [
        "!git clone https://github.com/AlexeyAB/darknet/\n",
        "%cd darknet"
      ]
    },
    {
      "cell_type": "code",
      "execution_count": null,
      "metadata": {
        "id": "uuZ13xuEsA0F"
      },
      "outputs": [],
      "source": [
        "!ls"
      ]
    },
    {
      "cell_type": "markdown",
      "metadata": {
        "id": "oLZeGTQbsDvg"
      },
      "source": [
        "## Etapa 3 - Compilando a Biblioteca"
      ]
    },
    {
      "cell_type": "code",
      "execution_count": null,
      "metadata": {
        "id": "ST5zoFMsCBs8"
      },
      "outputs": [],
      "source": [
        "!sed -i 's/OPENCV=0/OPENCV=1/' Makefile\n",
        "!sed -i 's/GPU=0/GPU=1/' Makefile\n",
        "!sed -i 's/CUDNN=0/CUDNN=1/' Makefile"
      ]
    },
    {
      "cell_type": "code",
      "execution_count": null,
      "metadata": {
        "id": "No1FyPW7CAyt"
      },
      "outputs": [],
      "source": [
        "!make"
      ]
    },
    {
      "cell_type": "markdown",
      "metadata": {
        "id": "MfuB3_5bsH2I"
      },
      "source": [
        "## Etapa 4 - Enviando o DataSet Customizado\n",
        "\n"
      ]
    },
    {
      "cell_type": "markdown",
      "metadata": {
        "id": "qgxmhJtOsMfS"
      },
      "source": [
        "### Copiando o conjunto de imagens de treinamento e validação"
      ]
    },
    {
      "cell_type": "code",
      "execution_count": null,
      "metadata": {
        "id": "WrQx2OPUigYS"
      },
      "outputs": [],
      "source": [
        "!ls /TreinamentoYOLO"
      ]
    },
    {
      "cell_type": "code",
      "execution_count": null,
      "metadata": {
        "id": "UGwiIrj32QeM"
      },
      "outputs": [],
      "source": [
        "!unzip /TreinamentoYOLO/obj.zip -d ./data/"
      ]
    },
    {
      "cell_type": "code",
      "execution_count": null,
      "metadata": {
        "id": "j3Un-AQF2Pmf"
      },
      "outputs": [],
      "source": [
        "!unzip /TreinamentoYOLO/valid.zip -d ./data/"
      ]
    },
    {
      "cell_type": "markdown",
      "metadata": {
        "id": "rkOScfRHsSBJ"
      },
      "source": [
        "### Copiando os arquivos de configuração"
      ]
    },
    {
      "cell_type": "code",
      "execution_count": null,
      "metadata": {
        "id": "qGjlo20YCp3n"
      },
      "outputs": [],
      "source": [
        "!cp /TreinamentoYOLO/yolov4_custom.cfg ./cfg\n",
        "!cp /TreinamentoYOLO/obj.names ./data\n",
        "!cp /TreinamentoYOLO/obj.data ./data\n",
        "!cp /TreinamentoYOLO/train.txt ./data\n",
        "!cp /TreinamentoYOLO/test.txt ./data"
      ]
    },
    {
      "cell_type": "markdown",
      "metadata": {
        "id": "rzeS4emwscAS"
      },
      "source": [
        "## Etapa 5 - Baixando os pesos pré-treinados das camadas convolucionais"
      ]
    },
    {
      "cell_type": "code",
      "execution_count": null,
      "metadata": {
        "id": "pGLYOh-hEsuu"
      },
      "outputs": [],
      "source": [
        "!wget https://github.com/AlexeyAB/darknet/releases/download/darknet_yolo_v3_optimal/yolov4.conv.137"
      ]
    },
    {
      "cell_type": "markdown",
      "metadata": {
        "id": "LM6D4Q1usiEK"
      },
      "source": [
        "## Etapa 6 - Treinamento do Modelo"
      ]
    },
    {
      "cell_type": "code",
      "execution_count": null,
      "metadata": {
        "id": "dZHHN61DJjTb"
      },
      "outputs": [],
      "source": [
        "!./darknet detector train data/obj.data cfg/yolov4_custom.cfg yolov4.conv.137 -dont_show -map"
      ]
    },
    {
      "cell_type": "markdown",
      "metadata": {
        "id": "Bw_oXSXTskAr"
      },
      "source": [
        "## Etapa 7 - Visualizar o chart.png"
      ]
    },
    {
      "cell_type": "code",
      "execution_count": null,
      "metadata": {
        "id": "FlybqJYkK1nu"
      },
      "outputs": [],
      "source": [
        "import cv2\n",
        "import matplotlib.pyplot as plt\n",
        "def mostrar(caminho):\n",
        "  img = cv2.imread(caminho)\n",
        "  fig = plt.gcf()\n",
        "  fig.set_size_inches(18, 10)\n",
        "  plt.axis('off')\n",
        "  plt.imshow(cv2.cvtColor(img, cv2.COLOR_BGR2RGB))\n",
        "  plt.show()"
      ]
    },
    {
      "cell_type": "code",
      "execution_count": null,
      "metadata": {
        "id": "XF44CfEspG92"
      },
      "outputs": [],
      "source": [
        "mostrar('chart.png')"
      ]
    },
    {
      "cell_type": "markdown",
      "metadata": {
        "id": "-8KEnBtcsub7"
      },
      "source": [
        "# Continuando o treinamento"
      ]
    },
    {
      "cell_type": "code",
      "execution_count": null,
      "metadata": {
        "id": "p5f1N_H8Kr5R"
      },
      "outputs": [],
      "source": [
        "!./darknet detector train data/obj.data cfg/yolov4_custom.cfg /TreinamentoYOLO/yolov4_custom_last.weights -dont_show -map"
      ]
    },
    {
      "cell_type": "markdown",
      "metadata": {
        "id": "KpK2bO_ls9Wn"
      },
      "source": [
        "# Verificando o mAP (Mean Average Precision) do modelo"
      ]
    },
    {
      "cell_type": "code",
      "execution_count": null,
      "metadata": {
        "id": "SSIJ4IUrK99N"
      },
      "outputs": [],
      "source": [
        "!./darknet detector map data/obj.data cfg/yolov4_custom.cfg /TreinamentoYOLO/yolov4_custom_last.weights"
      ]
    },
    {
      "cell_type": "markdown",
      "metadata": {
        "id": "SQDMSeBwN-J0"
      },
      "source": [
        "# Testando o modelo treinado"
      ]
    },
    {
      "cell_type": "code",
      "execution_count": null,
      "metadata": {
        "id": "xmL-9xgq2R4V"
      },
      "outputs": [],
      "source": [
        "!./darknet detector test data/obj.data cfg/yolov4_custom.cfg /TreinamentoYOLO/yolov4_custom_last.weights /TreinamentoYOLO/imagem.jpg -thresh 0.5 42"
      ]
    },
    {
      "cell_type": "code",
      "execution_count": null,
      "metadata": {
        "id": "yXzoJpBpNzrR"
      },
      "outputs": [],
      "source": [
        "mostrar('predictions.jpg')"
      ]
    },
    {
      "cell_type": "code",
      "execution_count": null,
      "metadata": {
        "id": "IjFoxyY-q5qy"
      },
      "outputs": [],
      "source": [
        "# Comando para apagar diretório darknet\n",
        "#!rm -r /content/darknet"
      ]
    }
  ],
  "metadata": {
    "accelerator": "GPU",
    "colab": {
      "collapsed_sections": [
        "2TgUjFpCynju",
        "JOiwkoibzE2X",
        "OP06Bl0jxVZx",
        "9_8mQDBWztAY",
        "0cR-3mVT2oKC",
        "L6UHIuyrrsGA",
        "Kh_uuIuPrzVX",
        "AslUNKw7r74n",
        "oLZeGTQbsDvg",
        "qgxmhJtOsMfS",
        "rkOScfRHsSBJ",
        "rzeS4emwscAS",
        "LM6D4Q1usiEK",
        "Bw_oXSXTskAr",
        "-8KEnBtcsub7",
        "KpK2bO_ls9Wn",
        "SQDMSeBwN-J0"
      ],
      "gpuType": "T4",
      "provenance": []
    },
    "kernelspec": {
      "display_name": "Python 3",
      "name": "python3"
    },
    "language_info": {
      "name": "python"
    }
  },
  "nbformat": 4,
  "nbformat_minor": 0
}
